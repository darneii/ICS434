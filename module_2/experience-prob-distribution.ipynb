{
 "cells": [
  {
   "cell_type": "markdown",
   "id": "713c60c7",
   "metadata": {},
   "source": [
    "##### Q.1 \n",
    "\n",
    "Consider the loaded die with the following probabilities:\n",
    "```\n",
    "    p(1) = 0.3/6\n",
    "    p(2) = 0.7/6\n",
    "    p(3) =   2/6\n",
    "    p(4) = 0.5/6\n",
    "    p(5) = 0.2/6\n",
    "    p(6) = 2.3/6\n",
    "```\n"
   ]
  },
  {
   "cell_type": "markdown",
   "id": "dbe12bdf",
   "metadata": {},
   "source": [
    "##### Q.2 \n",
    "* Plot the probability distribution above\n",
    "  * Select the most appropriate visualization to do so."
   ]
  },
  {
   "cell_type": "code",
   "execution_count": 63,
   "id": "823f4c2c",
   "metadata": {},
   "outputs": [],
   "source": [
    "import numpy as np\n",
    "import matplotlib.pyplot as plt\n",
    "from scipy.stats import binom"
   ]
  },
  {
   "cell_type": "code",
   "execution_count": 64,
   "id": "a8e743ba",
   "metadata": {},
   "outputs": [],
   "source": [
    "p = [0.3/6, 0.7/6, 2/6, 0.5/6, 0.2/6, 2.3/6]"
   ]
  },
  {
   "cell_type": "code",
   "execution_count": 65,
   "id": "f519fe80",
   "metadata": {},
   "outputs": [],
   "source": [
    "# Add your plot code here\n",
    "x = np.arange(1, 7, 1)"
   ]
  },
  {
   "cell_type": "code",
   "execution_count": 66,
   "id": "0322b8e8",
   "metadata": {},
   "outputs": [
    {
     "data": {
      "text/plain": [
       "<BarContainer object of 6 artists>"
      ]
     },
     "execution_count": 66,
     "metadata": {},
     "output_type": "execute_result"
    },
    {
     "data": {
      "image/png": "[encoded data removed]",
      "text/plain": [
       "<Figure size 720x288 with 1 Axes>"
      ]
     },
     "metadata": {
      "needs_background": "light"
     },
     "output_type": "display_data"
    }
   ],
   "source": [
    "plt.figure(figsize=(10,4))\n",
    "plt.bar(x, p)"
   ]
  },
  {
   "cell_type": "markdown",
   "id": "2bebd2a7",
   "metadata": {},
   "source": [
    "##### Q.3 \n",
    "* Based only on the plot above, can you predict the mean value of a random variable consisting of values obtaining from rolling a die  that follows the probability distribution given above? Explain your reasoning."
   ]
  },
  {
   "cell_type": "code",
   "execution_count": 67,
   "id": "9144c2f9",
   "metadata": {},
   "outputs": [
    {
     "name": "stdout",
     "output_type": "stream",
     "text": [
      "Yes you can because there are two points that are the highest compared to the rest. With this information, we can say that the mean will most likely be between the two values. In this case, the mean should lie between 3 and 6.\n"
     ]
    }
   ],
   "source": [
    "# Write you answer here\n",
    "print('Yes you can because there are two points that are the highest compared to the rest. With this information, we can '\n",
    "     'say that the mean will most likely be between the two values. In this case, the mean should lie between 3 and 6.')"
   ]
  },
  {
   "cell_type": "markdown",
   "id": "007f6984",
   "metadata": {},
   "source": [
    "##### Q.4\n",
    "* Sample 5000 die rolls such that the probabilities of obtaining the values 1 through 6 are distributed according probabilities above. Use these samples to estimate the mean of the random variable. \n"
   ]
  },
  {
   "cell_type": "code",
   "execution_count": 74,
   "id": "5bc38d79",
   "metadata": {},
   "outputs": [],
   "source": [
    "# Write you code here\n",
    "# probs = binom.pmf(6, 5000, p)"
   ]
  },
  {
   "cell_type": "code",
   "execution_count": 75,
   "id": "9e264fea",
   "metadata": {},
   "outputs": [],
   "source": [
    "n = 5000\n",
    "x = range(n)\n",
    "\n",
    "temp = [binom.pmf(val, n, p) for val in x]"
   ]
  },
  {
   "cell_type": "code",
   "execution_count": 76,
   "id": "051760a8",
   "metadata": {},
   "outputs": [],
   "source": [
    "mean = sum(probs) / len(probs)"
   ]
  },
  {
   "cell_type": "code",
   "execution_count": 77,
   "id": "87f32879",
   "metadata": {},
   "outputs": [
    {
     "name": "stdout",
     "output_type": "stream",
     "text": [
      "1.4667659746496052e-64\n"
     ]
    }
   ],
   "source": [
    "print(mean)"
   ]
  },
  {
   "cell_type": "markdown",
   "id": "78152616",
   "metadata": {},
   "source": [
    "##### Q.5 \n",
    "\n",
    "* Does the mean match your prediction in Q.3 above? Explain your answer.\n"
   ]
  },
  {
   "cell_type": "code",
   "execution_count": 80,
   "id": "6d11df2d",
   "metadata": {},
   "outputs": [
    {
     "name": "stdout",
     "output_type": "stream",
     "text": [
      "The mean doesnt quite match my prediction in Q.3. Everything was due to probability, so it wont always be in your odds, even if you may know what the probabilities are.\n"
     ]
    }
   ],
   "source": [
    "# Write you answer here\n",
    "print('The mean doesnt quite match my prediction in Q.3. Everything was due to probability, so it wont always be in your '\n",
    "     'odds, even if you may know what the probabilities are.')"
   ]
  }
 ],
 "metadata": {
  "kernelspec": {
   "display_name": "Python 3 (ipykernel)",
   "language": "python",
   "name": "python3"
  },
  "language_info": {
   "codemirror_mode": {
    "name": "ipython",
    "version": 3
   },
   "file_extension": ".py",
   "mimetype": "text/x-python",
   "name": "python",
   "nbconvert_exporter": "python",
   "pygments_lexer": "ipython3",
   "version": "3.9.7"
  }
 },
 "nbformat": 4,
 "nbformat_minor": 5
}
